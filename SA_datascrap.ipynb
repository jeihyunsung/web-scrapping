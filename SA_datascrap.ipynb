{
 "nbformat": 4,
 "nbformat_minor": 2,
 "metadata": {
  "language_info": {
   "name": "python",
   "codemirror_mode": {
    "name": "ipython",
    "version": 3
   },
   "version": "3.8.10-final"
  },
  "orig_nbformat": 2,
  "file_extension": ".py",
  "mimetype": "text/x-python",
  "name": "python",
  "npconvert_exporter": "python",
  "pygments_lexer": "ipython3",
  "version": 3,
  "kernelspec": {
   "name": "python381064bit7a070e3f134a4885b1edc12ac311b263",
   "display_name": "Python 3.8.10 64-bit"
  }
 },
 "cells": [
  {
   "cell_type": "code",
   "execution_count": 78,
   "metadata": {},
   "outputs": [],
   "source": [
    "import pandas as pd\n",
    "from db import Database"
   ]
  },
  {
   "cell_type": "code",
   "execution_count": 79,
   "metadata": {},
   "outputs": [
    {
     "data": {
      "text/html": "<div>\n<style scoped>\n    .dataframe tbody tr th:only-of-type {\n        vertical-align: middle;\n    }\n\n    .dataframe tbody tr th {\n        vertical-align: top;\n    }\n\n    .dataframe thead th {\n        text-align: right;\n    }\n</style>\n<table border=\"1\" class=\"dataframe\">\n  <thead>\n    <tr style=\"text-align: right;\">\n      <th></th>\n      <th>Unnamed: 0</th>\n      <th>page</th>\n      <th>idx</th>\n      <th>year</th>\n      <th>material</th>\n      <th>tool</th>\n      <th>area</th>\n      <th>st_price</th>\n      <th>final_price</th>\n      <th>auction_year</th>\n      <th>auction_month</th>\n      <th>auction_date</th>\n    </tr>\n  </thead>\n  <tbody>\n    <tr>\n      <th>0</th>\n      <td>0</td>\n      <td>0</td>\n      <td>0</td>\n      <td>NaN</td>\n      <td>paper</td>\n      <td>gouache and colored pencil</td>\n      <td>784.00</td>\n      <td>15000000.0</td>\n      <td>40000000.0</td>\n      <td>2021</td>\n      <td>9</td>\n      <td>28</td>\n    </tr>\n    <tr>\n      <th>1</th>\n      <td>1</td>\n      <td>0</td>\n      <td>1</td>\n      <td>1961.0</td>\n      <td>paper</td>\n      <td>gouache</td>\n      <td>1056.25</td>\n      <td>120000000.0</td>\n      <td>NaN</td>\n      <td>2021</td>\n      <td>9</td>\n      <td>28</td>\n    </tr>\n    <tr>\n      <th>2</th>\n      <td>2</td>\n      <td>0</td>\n      <td>2</td>\n      <td>1968.0</td>\n      <td>newspaper</td>\n      <td>color</td>\n      <td>3058.09</td>\n      <td>80000000.0</td>\n      <td>105000000.0</td>\n      <td>2021</td>\n      <td>9</td>\n      <td>28</td>\n    </tr>\n    <tr>\n      <th>3</th>\n      <td>3</td>\n      <td>0</td>\n      <td>3</td>\n      <td>1971.0</td>\n      <td>Korean paper</td>\n      <td>oil</td>\n      <td>3192.25</td>\n      <td>80000000.0</td>\n      <td>135000000.0</td>\n      <td>2021</td>\n      <td>9</td>\n      <td>28</td>\n    </tr>\n    <tr>\n      <th>4</th>\n      <td>4</td>\n      <td>0</td>\n      <td>4</td>\n      <td>1963.0</td>\n      <td>paper</td>\n      <td>gouache and pen</td>\n      <td>299.29</td>\n      <td>20000000.0</td>\n      <td>20000000.0</td>\n      <td>2021</td>\n      <td>9</td>\n      <td>9</td>\n    </tr>\n  </tbody>\n</table>\n</div>",
      "text/plain": "   Unnamed: 0  page  idx    year      material                        tool  \\\n0           0     0    0     NaN         paper  gouache and colored pencil   \n1           1     0    1  1961.0         paper                     gouache   \n2           2     0    2  1968.0     newspaper                       color   \n3           3     0    3  1971.0  Korean paper                         oil   \n4           4     0    4  1963.0         paper             gouache and pen   \n\n      area     st_price  final_price  auction_year  auction_month  \\\n0   784.00   15000000.0   40000000.0          2021              9   \n1  1056.25  120000000.0          NaN          2021              9   \n2  3058.09   80000000.0  105000000.0          2021              9   \n3  3192.25   80000000.0  135000000.0          2021              9   \n4   299.29   20000000.0   20000000.0          2021              9   \n\n   auction_date  \n0            28  \n1            28  \n2            28  \n3            28  \n4             9  "
     },
     "execution_count": 79,
     "metadata": {},
     "output_type": "execute_result"
    }
   ],
   "source": [
    "train = pd.read_csv(\"Database.csv\")\n",
    "train.head()"
   ]
  },
  {
   "cell_type": "code",
   "execution_count": 80,
   "metadata": {},
   "outputs": [
    {
     "data": {
      "text/plain": "428"
     },
     "execution_count": 80,
     "metadata": {},
     "output_type": "execute_result"
    }
   ],
   "source": [
    "len(train)"
   ]
  },
  {
   "cell_type": "code",
   "execution_count": 81,
   "metadata": {},
   "outputs": [
    {
     "data": {
      "text/plain": "count    3.010000e+02\nmean     4.502131e+08\nstd      1.057504e+09\nmin      3.600000e+06\n25%      2.800000e+07\n50%      9.111357e+07\n75%      3.400000e+08\nmax      9.415069e+09\nName: final_price, dtype: float64"
     },
     "execution_count": 81,
     "metadata": {},
     "output_type": "execute_result"
    }
   ],
   "source": [
    "train.final_price.describe()"
   ]
  },
  {
   "cell_type": "code",
   "execution_count": 82,
   "metadata": {},
   "outputs": [
    {
     "data": {
      "text/plain": "Unnamed: 0         0\npage               0\nidx                0\nyear             129\nmaterial          14\ntool               1\narea               5\nst_price          37\nfinal_price      127\nauction_year       0\nauction_month      0\nauction_date       0\ndtype: int64"
     },
     "execution_count": 82,
     "metadata": {},
     "output_type": "execute_result"
    }
   ],
   "source": [
    "train.isnull().sum()\n"
   ]
  },
  {
   "cell_type": "code",
   "execution_count": 92,
   "metadata": {},
   "outputs": [],
   "source": [
    "fails = train[train['final_price'].isnull()]"
   ]
  },
  {
   "cell_type": "code",
   "execution_count": null,
   "metadata": {},
   "outputs": [],
   "source": [
    "import numpy as np\n",
    "import matplotlib as mpl\n",
    "import matplotlib.pyplot as plt"
   ]
  },
  {
   "cell_type": "code",
   "execution_count": null,
   "metadata": {},
   "outputs": [],
   "source": [
    "# 노트북 안에 그래프를 그리기 위해\n",
    "%matplotlib inline\n",
    "\n",
    "# 그래프에서 격자로 숫자 범위가 눈에 잘 띄도록 ggplot 스타일을 사용\n",
    "plt.style.use('ggplot')\n",
    "\n",
    "# 그래프에서 마이너스 폰트 깨지는 문제에 대한 대처\n",
    "mpl.rcParams['axes.unicode_minus'] = False"
   ]
  },
  {
   "cell_type": "code",
   "execution_count": null,
   "metadata": {},
   "outputs": [],
   "source": [
    "font_path = \"C:/Windows/Fonts/H2GTRM.TTF\"\n",
    "font = mpl.font_manager.FontProperties(fname=font_path).get_name()\n",
    "mpl.rc('font', family=font)"
   ]
  },
  {
   "cell_type": "code",
   "execution_count": null,
   "metadata": {},
   "outputs": [],
   "source": [
    "import seaborn as sns\n",
    "from scipy import stats\n",
    "\n",
    "figure, (ax1,ax2) = plt.subplots(nrows=2, ncols=1)\n",
    "figure.set_size_inches(18,16)\n",
    "\n",
    "sns.countplot(data=train, x=\"year\", ax=ax1)\n",
    "sns.countplot(data=train, x=\"auction_year\", ax=ax2)\n",
    "\n",
    "ax1.set(ylabel='Count',xlabel='year',title=\"작품년도\")\n",
    "ax2.set(xlabel='auction_year',title=\"경매년도\")"
   ]
  },
  {
   "cell_type": "code",
   "execution_count": null,
   "metadata": {},
   "outputs": [],
   "source": [
    "figure.savefig('savefig_default.png')"
   ]
  },
  {
   "cell_type": "code",
   "execution_count": null,
   "metadata": {},
   "outputs": [],
   "source": [
    "fig, axes = plt.subplots(nrows=3,ncols=1)\n",
    "fig.set_size_inches(18, 18)\n",
    "\n",
    "sns.boxplot(data=train,y=\"final_price\",x=\"auction_year\",orient=\"v\",ax=axes[0])\n",
    "sns.boxplot(data=train,y=\"final_price\",x=\"year\",orient=\"v\",ax=axes[1])\n",
    "sns.boxplot(data=train,y=\"area\",x=\"year\",orient=\"v\",ax=axes[2])\n",
    "\n",
    "\n",
    "axes[0].set(xlabel='auction year', ylabel='final price',title=\"년도별 낙찰가격\")\n",
    "axes[1].set(xlabel='year', ylabel='final price',title=\"작품년도별 낙찰가격\")\n",
    "axes[2].set(xlabel='year', ylabel='area',title=\"작품년도별 크기\")\n",
    "\n"
   ]
  },
  {
   "cell_type": "code",
   "execution_count": 122,
   "metadata": {},
   "outputs": [
    {
     "data": {
      "text/html": "<div>\n<style scoped>\n    .dataframe tbody tr th:only-of-type {\n        vertical-align: middle;\n    }\n\n    .dataframe tbody tr th {\n        vertical-align: top;\n    }\n\n    .dataframe thead th {\n        text-align: right;\n    }\n</style>\n<table border=\"1\" class=\"dataframe\">\n  <thead>\n    <tr style=\"text-align: right;\">\n      <th></th>\n      <th>fail</th>\n      <th>final_price</th>\n    </tr>\n  </thead>\n  <tbody>\n    <tr>\n      <th>0</th>\n      <td>False</td>\n      <td>40000000.0</td>\n    </tr>\n    <tr>\n      <th>1</th>\n      <td>True</td>\n      <td>NaN</td>\n    </tr>\n    <tr>\n      <th>2</th>\n      <td>False</td>\n      <td>105000000.0</td>\n    </tr>\n    <tr>\n      <th>3</th>\n      <td>False</td>\n      <td>135000000.0</td>\n    </tr>\n    <tr>\n      <th>4</th>\n      <td>False</td>\n      <td>20000000.0</td>\n    </tr>\n    <tr>\n      <th>...</th>\n      <td>...</td>\n      <td>...</td>\n    </tr>\n    <tr>\n      <th>423</th>\n      <td>True</td>\n      <td>NaN</td>\n    </tr>\n    <tr>\n      <th>424</th>\n      <td>False</td>\n      <td>34000000.0</td>\n    </tr>\n    <tr>\n      <th>425</th>\n      <td>True</td>\n      <td>NaN</td>\n    </tr>\n    <tr>\n      <th>426</th>\n      <td>True</td>\n      <td>NaN</td>\n    </tr>\n    <tr>\n      <th>427</th>\n      <td>True</td>\n      <td>NaN</td>\n    </tr>\n  </tbody>\n</table>\n<p>428 rows × 2 columns</p>\n</div>",
      "text/plain": "      fail  final_price\n0    False   40000000.0\n1     True          NaN\n2    False  105000000.0\n3    False  135000000.0\n4    False   20000000.0\n..     ...          ...\n423   True          NaN\n424  False   34000000.0\n425   True          NaN\n426   True          NaN\n427   True          NaN\n\n[428 rows x 2 columns]"
     },
     "execution_count": 122,
     "metadata": {},
     "output_type": "execute_result"
    }
   ],
   "source": [
    "def auction_fail(data):\n",
    "    if data['final_price']>0:\n",
    "        return 'False'\n",
    "    else:\n",
    "        return 'True'\n",
    "\n",
    "train['fail'] = train.apply(auction_fail, axis=1)\n",
    "train[['fail','final_price']]\n",
    "\n",
    "\n"
   ]
  },
  {
   "cell_type": "code",
   "execution_count": 123,
   "metadata": {},
   "outputs": [
    {
     "data": {
      "text/plain": "[Text(0.5, 0, '유찰'), Text(0, 0.5, 'count'), Text(0.5, 1.0, '유찰횟수')]"
     },
     "execution_count": 123,
     "metadata": {},
     "output_type": "execute_result"
    },
    {
     "data": {
      "image/png": "[encoded data removed]",
      "image/svg+xml": "<?xml version=\"1.0\" encoding=\"utf-8\" standalone=\"no\"?>\r\n<!DOCTYPE svg PUBLIC \"-//W3C//DTD SVG 1.1//EN\"\r\n  \"http://www.w3.org/Graphics/SVG/1.1/DTD/svg11.dtd\">\r\n<svg height=\"278.724375pt\" version=\"1.1\" viewBox=\"0 0 387.990312 278.724375\" width=\"387.990312pt\" xmlns=\"http://www.w3.org/2000/svg\" xmlns:xlink=\"http://www.w3.org/1999/xlink\">\r\n <metadata>\r\n  <rdf:RDF xmlns:cc=\"http://creativecommons.org/ns#\" xmlns:dc=\"http://purl.org/dc/elements/1.1/\" xmlns:rdf=\"http://www.w3.org/1999/02/22-rdf-syntax-ns#\">\r\n   <cc:Work>\r\n    <dc:type rdf:resource=\"http://purl.org/dc/dcmitype/StillImage\"/>\r\n    <dc:date>2021-10-04T13:23:12.209116</dc:date>\r\n    <dc:format>image/svg+xml</dc:format>\r\n    <dc:creator>\r\n     <cc:Agent>\r\n      <dc:title>Matplotlib v3.4.3, https://matplotlib.org/</dc:title>\r\n     </cc:Agent>\r\n    </dc:creator>\r\n   </cc:Work>\r\n  </rdf:RDF>\r\n </metadata>\r\n <defs>\r\n  <style type=\"text/css\">*{stroke-linecap:butt;stroke-linejoin:round;}</style>\r\n </defs>\r\n <g id=\"figure_1\">\r\n  <g id=\"patch_1\">\r\n   <path d=\"M 0 278.724375 \r\nL 387.990312 278.724375 \r\nL 387.990312 0 \r\nL 0 0 \r\nz\r\n\" style=\"fill:#ffffff;\"/>\r\n  </g>\r\n  <g id=\"axes_1\">\r\n   <g id=\"patch_2\">\r\n    <path d=\"M 45.990313 241.44 \r\nL 380.790313 241.44 \r\nL 380.790313 24 \r\nL 45.990313 24 \r\nz\r\n\" style=\"fill:#e5e5e5;\"/>\r\n   </g>\r\n   <g id=\"matplotlib.axis_1\">\r\n    <g id=\"xtick_1\">\r\n     <g id=\"line2d_1\">\r\n      <defs>\r\n       <path d=\"M 0 0 \r\nL 0 3.5 \r\n\" id=\"mb010a53965\" style=\"stroke:#555555;stroke-width:0.8;\"/>\r\n      </defs>\r\n      <g>\r\n       <use style=\"fill:#555555;stroke:#555555;stroke-width:0.8;\" x=\"129.690313\" xlink:href=\"#mb010a53965\" y=\"241.44\"/>\r\n      </g>\r\n     </g>\r\n     <g id=\"text_1\">\r\n      <!-- False -->\r\n      <g style=\"fill:#555555;\" transform=\"translate(116.780156 255.6275)scale(0.1 -0.1)\">\r\n       <defs>\r\n        <path d=\"M 600 6 \r\nL 1019 6 \r\nL 1019 2181 \r\nL 3288 2181 \r\nL 3288 2563 \r\nL 1019 2563 \r\nL 1019 4219 \r\nL 3513 4219 \r\nL 3513 4600 \r\nL 600 4600 \r\nL 600 6 \r\nz\r\n\" id=\"H2gtrM-46\" transform=\"scale(0.015625)\"/>\r\n        <path d=\"M 2713 475 \r\nL 2713 419 \r\nQ 2713 200 2831 88 \r\nQ 2950 -31 3188 -31 \r\nQ 3231 -31 3294 -25 \r\nQ 3369 -13 3456 0 \r\nL 3456 281 \r\nL 3325 275 \r\nQ 3156 275 3113 350 \r\nQ 3075 406 3075 581 \r\nL 3075 2394 \r\nQ 3075 2888 2763 3144 \r\nQ 2456 3400 1863 3400 \r\nQ 1256 3400 906 3106 \r\nQ 556 2819 544 2319 \r\nL 925 2319 \r\nQ 944 2694 1181 2875 \r\nQ 1419 3056 1863 3056 \r\nQ 2306 3056 2500 2888 \r\nQ 2688 2719 2688 2338 \r\nQ 2688 2106 2519 2006 \r\nQ 2394 1931 2113 1906 \r\nL 1913 1894 \r\nQ 1556 1869 1388 1838 \r\nQ 1113 1794 919 1700 \r\nQ 650 1588 519 1375 \r\nQ 381 1163 381 869 \r\nQ 381 438 675 175 \r\nQ 969 -94 1475 -94 \r\nQ 1825 -94 2138 50 \r\nQ 2444 194 2713 475 \r\nz\r\nM 2688 1738 \r\nL 2688 1275 \r\nQ 2688 806 2363 525 \r\nQ 2044 250 1531 250 \r\nQ 1175 250 975 425 \r\nQ 775 594 775 875 \r\nQ 775 1144 963 1325 \r\nQ 1163 1519 1538 1563 \r\nL 1869 1600 \r\nQ 2188 1631 2319 1650 \r\nQ 2544 1688 2688 1738 \r\nz\r\n\" id=\"H2gtrM-61\" transform=\"scale(0.015625)\"/>\r\n        <path d=\"M 538 6 \r\nL 919 6 \r\nL 919 4600 \r\nL 538 4600 \r\nL 538 6 \r\nz\r\n\" id=\"H2gtrM-6c\" transform=\"scale(0.015625)\"/>\r\n        <path d=\"M 381 1031 \r\nQ 394 519 738 219 \r\nQ 1088 -94 1663 -94 \r\nQ 2244 -94 2594 181 \r\nQ 2938 444 2938 863 \r\nQ 2938 1256 2688 1469 \r\nQ 2463 1669 1919 1800 \r\nL 1800 1831 \r\nQ 1256 1950 1094 2044 \r\nQ 850 2188 850 2494 \r\nQ 850 2750 1038 2906 \r\nQ 1238 3069 1588 3069 \r\nQ 1969 3069 2200 2875 \r\nQ 2431 2681 2456 2344 \r\nL 2844 2344 \r\nQ 2813 2844 2481 3125 \r\nQ 2150 3400 1594 3400 \r\nQ 1081 3400 763 3138 \r\nQ 444 2869 444 2438 \r\nQ 444 2038 744 1825 \r\nQ 994 1650 1650 1488 \r\nL 1656 1488 \r\nQ 2169 1369 2319 1281 \r\nQ 2544 1156 2544 869 \r\nQ 2544 594 2313 425 \r\nQ 2069 250 1656 250 \r\nQ 1269 250 1025 475 \r\nQ 775 694 769 1031 \r\nL 381 1031 \r\nz\r\n\" id=\"H2gtrM-73\" transform=\"scale(0.015625)\"/>\r\n        <path d=\"M 775 1894 \r\nQ 806 2444 1094 2763 \r\nQ 1375 3069 1813 3069 \r\nQ 2244 3069 2513 2763 \r\nQ 2788 2444 2813 1894 \r\nL 775 1894 \r\nz\r\nM 775 1588 \r\nL 3206 1588 \r\nL 3206 1713 \r\nQ 3206 2513 2831 2963 \r\nQ 2463 3400 1825 3400 \r\nQ 1150 3400 763 2944 \r\nQ 381 2475 381 1638 \r\nQ 381 825 763 363 \r\nQ 1138 -94 1800 -94 \r\nQ 2350 -94 2725 213 \r\nQ 3094 519 3163 1025 \r\nL 2781 1025 \r\nQ 2719 669 2456 456 \r\nQ 2200 250 1831 250 \r\nQ 1356 250 1069 600 \r\nQ 775 969 775 1588 \r\nz\r\n\" id=\"H2gtrM-65\" transform=\"scale(0.015625)\"/>\r\n       </defs>\r\n       <use xlink:href=\"#H2gtrM-46\"/>\r\n       <use x=\"62.5\" xlink:href=\"#H2gtrM-61\"/>\r\n       <use x=\"120.800781\" xlink:href=\"#H2gtrM-6c\"/>\r\n       <use x=\"145.800781\" xlink:href=\"#H2gtrM-73\"/>\r\n       <use x=\"199.902344\" xlink:href=\"#H2gtrM-65\"/>\r\n      </g>\r\n     </g>\r\n    </g>\r\n    <g id=\"xtick_2\">\r\n     <g id=\"line2d_2\">\r\n      <g>\r\n       <use style=\"fill:#555555;stroke:#555555;stroke-width:0.8;\" x=\"297.090312\" xlink:href=\"#mb010a53965\" y=\"241.44\"/>\r\n      </g>\r\n     </g>\r\n     <g id=\"text_2\">\r\n      <!-- True -->\r\n      <g style=\"fill:#555555;\" transform=\"translate(286.680937 255.6275)scale(0.1 -0.1)\">\r\n       <defs>\r\n        <path d=\"M 1588 6 \r\nL 2006 6 \r\nL 2006 4219 \r\nL 3444 4219 \r\nL 3444 4600 \r\nL 156 4600 \r\nL 156 4219 \r\nL 1588 4219 \r\nL 1588 6 \r\nz\r\n\" id=\"H2gtrM-54\" transform=\"scale(0.015625)\"/>\r\n        <path d=\"M 513 6 \r\nL 894 6 \r\nL 894 1838 \r\nQ 894 2413 1144 2719 \r\nQ 1388 3013 1844 3013 \r\nL 1894 3013 \r\nL 1894 3400 \r\nL 1856 3400 \r\nQ 1525 3400 1281 3244 \r\nQ 1025 3075 888 2738 \r\nL 888 3325 \r\nL 513 3325 \r\nL 513 6 \r\nz\r\n\" id=\"H2gtrM-72\" transform=\"scale(0.015625)\"/>\r\n        <path d=\"M 3044 3325 \r\nL 2663 3325 \r\nL 2663 1350 \r\nQ 2663 850 2388 550 \r\nQ 2125 250 1688 250 \r\nQ 1269 250 1094 481 \r\nQ 925 694 925 1181 \r\nL 925 3325 \r\nL 544 3325 \r\nL 544 1088 \r\nQ 544 506 813 206 \r\nQ 1088 -94 1613 -94 \r\nQ 1944 -94 2213 63 \r\nQ 2481 219 2675 531 \r\nL 2675 6 \r\nL 3044 6 \r\nL 3044 3325 \r\nz\r\n\" id=\"H2gtrM-75\" transform=\"scale(0.015625)\"/>\r\n       </defs>\r\n       <use xlink:href=\"#H2gtrM-54\"/>\r\n       <use x=\"58.300781\" xlink:href=\"#H2gtrM-72\"/>\r\n       <use x=\"91.601562\" xlink:href=\"#H2gtrM-75\"/>\r\n       <use x=\"149.902344\" xlink:href=\"#H2gtrM-65\"/>\r\n      </g>\r\n     </g>\r\n    </g>\r\n    <g id=\"text_3\">\r\n     <!-- 유찰 -->\r\n     <g style=\"fill:#555555;\" transform=\"translate(201.390312 269.848125)scale(0.12 -0.12)\">\r\n      <defs>\r\n       <path d=\"M 3200 5094 \r\nQ 2219 5094 1669 4731 \r\nQ 1175 4406 1175 3913 \r\nQ 1175 3431 1669 3106 \r\nQ 2219 2750 3200 2750 \r\nQ 4175 2750 4731 3106 \r\nQ 5231 3431 5231 3913 \r\nQ 5231 4406 4731 4731 \r\nQ 4175 5094 3200 5094 \r\nz\r\nM 3200 4750 \r\nQ 3988 4750 4419 4506 \r\nQ 4819 4281 4819 3913 \r\nQ 4819 3563 4419 3338 \r\nQ 3988 3094 3200 3094 \r\nQ 2406 3094 1975 3338 \r\nQ 1588 3563 1588 3913 \r\nQ 1588 4281 1975 4506 \r\nQ 2406 4750 3200 4750 \r\nz\r\nM 5838 2106 \r\nL 563 2106 \r\nL 563 1763 \r\nL 1806 1763 \r\nL 1806 -306 \r\nL 2213 -306 \r\nL 2213 1763 \r\nL 4188 1763 \r\nL 4188 -506 \r\nL 4594 -506 \r\nL 4594 1763 \r\nL 5838 1763 \r\nL 5838 2106 \r\nz\r\n\" id=\"H2gtrM-c720\" transform=\"scale(0.015625)\"/>\r\n       <path d=\"M 706 4188 \r\nL 706 3844 \r\nL 2088 3844 \r\nQ 2031 3369 1613 2925 \r\nQ 1156 2425 444 2188 \r\nL 706 1856 \r\nQ 1250 2094 1669 2450 \r\nQ 2050 2775 2231 3113 \r\nQ 2375 2806 2806 2500 \r\nQ 3263 2188 3838 2019 \r\nL 4094 2363 \r\nQ 3306 2525 2819 2981 \r\nQ 2344 3431 2488 3844 \r\nL 3875 3844 \r\nL 3875 4188 \r\nL 706 4188 \r\nz\r\nM 1619 5025 \r\nL 1619 4681 \r\nL 3075 4681 \r\nL 3075 5025 \r\nL 1619 5025 \r\nz\r\nM 4744 5094 \r\nL 4744 5094 \r\nL 4744 2088 \r\nL 5163 2088 \r\nL 5163 3144 \r\nL 6106 3144 \r\nL 6106 3494 \r\nL 5163 3494 \r\nL 5163 4894 \r\nL 5188 4963 \r\nQ 5219 5031 5206 5056 \r\nQ 5188 5094 5056 5094 \r\nL 4744 5094 \r\nz\r\nM 1381 1813 \r\nL 1381 1469 \r\nL 4763 1469 \r\nL 4763 925 \r\nL 1381 925 \r\nL 1381 -431 \r\nL 5294 -431 \r\nL 5294 -88 \r\nL 1775 -88 \r\nL 1775 581 \r\nL 5163 581 \r\nL 5163 1813 \r\nL 1381 1813 \r\nz\r\n\" id=\"H2gtrM-cc30\" transform=\"scale(0.015625)\"/>\r\n      </defs>\r\n      <use xlink:href=\"#H2gtrM-c720\"/>\r\n      <use x=\"100\" xlink:href=\"#H2gtrM-cc30\"/>\r\n     </g>\r\n    </g>\r\n   </g>\r\n   <g id=\"matplotlib.axis_2\">\r\n    <g id=\"ytick_1\">\r\n     <g id=\"line2d_3\">\r\n      <path clip-path=\"url(#pd917cc7f18)\" d=\"M 45.990313 241.44 \r\nL 380.790313 241.44 \r\n\" style=\"fill:none;stroke:#ffffff;stroke-linecap:square;stroke-width:0.8;\"/>\r\n     </g>\r\n     <g id=\"line2d_4\">\r\n      <defs>\r\n       <path d=\"M 0 0 \r\nL -3.5 0 \r\n\" id=\"mf2c59d36fa\" style=\"stroke:#555555;stroke-width:0.8;\"/>\r\n      </defs>\r\n      <g>\r\n       <use style=\"fill:#555555;stroke:#555555;stroke-width:0.8;\" x=\"45.990313\" xlink:href=\"#mf2c59d36fa\" y=\"241.44\"/>\r\n      </g>\r\n     </g>\r\n     <g id=\"text_4\">\r\n      <!-- 0 -->\r\n      <g style=\"fill:#555555;\" transform=\"translate(33.160625 245.03375)scale(0.1 -0.1)\">\r\n       <defs>\r\n        <path d=\"M 394 2306 \r\nQ 394 1094 769 481 \r\nQ 1138 -125 1863 -125 \r\nQ 2569 -125 2944 475 \r\nQ 3338 1094 3338 2300 \r\nQ 3338 3506 2944 4125 \r\nQ 2569 4719 1863 4719 \r\nQ 1138 4719 769 4125 \r\nQ 394 3519 394 2306 \r\nz\r\nM 831 2306 \r\nQ 831 3369 1081 3863 \r\nQ 1325 4344 1863 4344 \r\nQ 2388 4344 2638 3863 \r\nQ 2894 3369 2894 2306 \r\nQ 2894 1238 2638 744 \r\nQ 2388 250 1863 250 \r\nQ 1325 250 1081 744 \r\nQ 831 1238 831 2306 \r\nz\r\n\" id=\"H2gtrM-30\" transform=\"scale(0.015625)\"/>\r\n       </defs>\r\n       <use xlink:href=\"#H2gtrM-30\"/>\r\n      </g>\r\n     </g>\r\n    </g>\r\n    <g id=\"ytick_2\">\r\n     <g id=\"line2d_5\">\r\n      <path clip-path=\"url(#pd917cc7f18)\" d=\"M 45.990313 207.04038 \r\nL 380.790313 207.04038 \r\n\" style=\"fill:none;stroke:#ffffff;stroke-linecap:square;stroke-width:0.8;\"/>\r\n     </g>\r\n     <g id=\"line2d_6\">\r\n      <g>\r\n       <use style=\"fill:#555555;stroke:#555555;stroke-width:0.8;\" x=\"45.990313\" xlink:href=\"#mf2c59d36fa\" y=\"207.04038\"/>\r\n      </g>\r\n     </g>\r\n     <g id=\"text_5\">\r\n      <!-- 50 -->\r\n      <g style=\"fill:#555555;\" transform=\"translate(27.330938 210.63413)scale(0.1 -0.1)\">\r\n       <defs>\r\n        <path d=\"M 450 1219 \r\nQ 469 581 850 225 \r\nQ 1225 -125 1863 -125 \r\nQ 2531 -125 2925 288 \r\nQ 3325 700 3325 1425 \r\nQ 3325 2150 2938 2563 \r\nQ 2563 2969 1919 2969 \r\nQ 1625 2969 1394 2894 \r\nQ 1169 2825 1013 2681 \r\nL 1219 4256 \r\nL 3106 4256 \r\nL 3106 4594 \r\nL 925 4594 \r\nL 581 2181 \r\nL 931 2181 \r\nQ 1069 2400 1306 2513 \r\nQ 1538 2625 1856 2625 \r\nQ 2338 2625 2606 2313 \r\nQ 2881 1994 2881 1406 \r\nQ 2881 838 2613 519 \r\nQ 2344 206 1881 206 \r\nQ 1425 206 1156 475 \r\nQ 881 744 863 1219 \r\nL 450 1219 \r\nz\r\n\" id=\"H2gtrM-35\" transform=\"scale(0.015625)\"/>\r\n       </defs>\r\n       <use xlink:href=\"#H2gtrM-35\"/>\r\n       <use x=\"58.300781\" xlink:href=\"#H2gtrM-30\"/>\r\n      </g>\r\n     </g>\r\n    </g>\r\n    <g id=\"ytick_3\">\r\n     <g id=\"line2d_7\">\r\n      <path clip-path=\"url(#pd917cc7f18)\" d=\"M 45.990313 172.640759 \r\nL 380.790313 172.640759 \r\n\" style=\"fill:none;stroke:#ffffff;stroke-linecap:square;stroke-width:0.8;\"/>\r\n     </g>\r\n     <g id=\"line2d_8\">\r\n      <g>\r\n       <use style=\"fill:#555555;stroke:#555555;stroke-width:0.8;\" x=\"45.990313\" xlink:href=\"#mf2c59d36fa\" y=\"172.640759\"/>\r\n      </g>\r\n     </g>\r\n     <g id=\"text_6\">\r\n      <!-- 100 -->\r\n      <g style=\"fill:#555555;\" transform=\"translate(21.50125 176.234509)scale(0.1 -0.1)\">\r\n       <defs>\r\n        <path d=\"M 1713 -125 \r\nL 2131 -125 \r\nL 2131 4719 \r\nL 1756 4719 \r\nQ 1731 4263 1456 4050 \r\nQ 1181 3838 631 3838 \r\nL 600 3838 \r\nL 600 3563 \r\nL 669 3563 \r\nQ 1050 3563 1294 3625 \r\nQ 1556 3681 1713 3813 \r\nL 1713 -125 \r\nz\r\n\" id=\"H2gtrM-31\" transform=\"scale(0.015625)\"/>\r\n       </defs>\r\n       <use xlink:href=\"#H2gtrM-31\"/>\r\n       <use x=\"58.300781\" xlink:href=\"#H2gtrM-30\"/>\r\n       <use x=\"116.601562\" xlink:href=\"#H2gtrM-30\"/>\r\n      </g>\r\n     </g>\r\n    </g>\r\n    <g id=\"ytick_4\">\r\n     <g id=\"line2d_9\">\r\n      <path clip-path=\"url(#pd917cc7f18)\" d=\"M 45.990313 138.241139 \r\nL 380.790313 138.241139 \r\n\" style=\"fill:none;stroke:#ffffff;stroke-linecap:square;stroke-width:0.8;\"/>\r\n     </g>\r\n     <g id=\"line2d_10\">\r\n      <g>\r\n       <use style=\"fill:#555555;stroke:#555555;stroke-width:0.8;\" x=\"45.990313\" xlink:href=\"#mf2c59d36fa\" y=\"138.241139\"/>\r\n      </g>\r\n     </g>\r\n     <g id=\"text_7\">\r\n      <!-- 150 -->\r\n      <g style=\"fill:#555555;\" transform=\"translate(21.50125 141.834889)scale(0.1 -0.1)\">\r\n       <use xlink:href=\"#H2gtrM-31\"/>\r\n       <use x=\"58.300781\" xlink:href=\"#H2gtrM-35\"/>\r\n       <use x=\"116.601562\" xlink:href=\"#H2gtrM-30\"/>\r\n      </g>\r\n     </g>\r\n    </g>\r\n    <g id=\"ytick_5\">\r\n     <g id=\"line2d_11\">\r\n      <path clip-path=\"url(#pd917cc7f18)\" d=\"M 45.990313 103.841519 \r\nL 380.790313 103.841519 \r\n\" style=\"fill:none;stroke:#ffffff;stroke-linecap:square;stroke-width:0.8;\"/>\r\n     </g>\r\n     <g id=\"line2d_12\">\r\n      <g>\r\n       <use style=\"fill:#555555;stroke:#555555;stroke-width:0.8;\" x=\"45.990313\" xlink:href=\"#mf2c59d36fa\" y=\"103.841519\"/>\r\n      </g>\r\n     </g>\r\n     <g id=\"text_8\">\r\n      <!-- 200 -->\r\n      <g style=\"fill:#555555;\" transform=\"translate(21.50125 107.435269)scale(0.1 -0.1)\">\r\n       <defs>\r\n        <path d=\"M 381 6 \r\nL 3263 6 \r\nL 3263 356 \r\nL 800 356 \r\nQ 819 775 1063 1069 \r\nQ 1275 1331 1756 1606 \r\nL 2113 1819 \r\nQ 2438 1994 2575 2088 \r\nQ 2806 2244 2938 2388 \r\nQ 3125 2594 3206 2825 \r\nQ 3294 3056 3294 3394 \r\nQ 3294 4019 2925 4369 \r\nQ 2569 4719 1944 4719 \r\nQ 1250 4719 881 4350 \r\nQ 494 3969 481 3206 \r\nL 913 3206 \r\nQ 913 3794 1169 4075 \r\nQ 1419 4344 1919 4344 \r\nQ 2369 4344 2619 4100 \r\nQ 2875 3850 2875 3375 \r\nQ 2875 3113 2800 2931 \r\nQ 2738 2775 2594 2600 \r\nQ 2488 2494 2294 2363 \r\nQ 2175 2288 1894 2119 \r\nL 1475 1863 \r\nQ 900 1506 650 1125 \r\nQ 381 719 381 131 \r\nL 381 6 \r\nz\r\n\" id=\"H2gtrM-32\" transform=\"scale(0.015625)\"/>\r\n       </defs>\r\n       <use xlink:href=\"#H2gtrM-32\"/>\r\n       <use x=\"58.300781\" xlink:href=\"#H2gtrM-30\"/>\r\n       <use x=\"116.601562\" xlink:href=\"#H2gtrM-30\"/>\r\n      </g>\r\n     </g>\r\n    </g>\r\n    <g id=\"ytick_6\">\r\n     <g id=\"line2d_13\">\r\n      <path clip-path=\"url(#pd917cc7f18)\" d=\"M 45.990313 69.441898 \r\nL 380.790313 69.441898 \r\n\" style=\"fill:none;stroke:#ffffff;stroke-linecap:square;stroke-width:0.8;\"/>\r\n     </g>\r\n     <g id=\"line2d_14\">\r\n      <g>\r\n       <use style=\"fill:#555555;stroke:#555555;stroke-width:0.8;\" x=\"45.990313\" xlink:href=\"#mf2c59d36fa\" y=\"69.441898\"/>\r\n      </g>\r\n     </g>\r\n     <g id=\"text_9\">\r\n      <!-- 250 -->\r\n      <g style=\"fill:#555555;\" transform=\"translate(21.50125 73.035648)scale(0.1 -0.1)\">\r\n       <use xlink:href=\"#H2gtrM-32\"/>\r\n       <use x=\"58.300781\" xlink:href=\"#H2gtrM-35\"/>\r\n       <use x=\"116.601562\" xlink:href=\"#H2gtrM-30\"/>\r\n      </g>\r\n     </g>\r\n    </g>\r\n    <g id=\"ytick_7\">\r\n     <g id=\"line2d_15\">\r\n      <path clip-path=\"url(#pd917cc7f18)\" d=\"M 45.990313 35.042278 \r\nL 380.790313 35.042278 \r\n\" style=\"fill:none;stroke:#ffffff;stroke-linecap:square;stroke-width:0.8;\"/>\r\n     </g>\r\n     <g id=\"line2d_16\">\r\n      <g>\r\n       <use style=\"fill:#555555;stroke:#555555;stroke-width:0.8;\" x=\"45.990313\" xlink:href=\"#mf2c59d36fa\" y=\"35.042278\"/>\r\n      </g>\r\n     </g>\r\n     <g id=\"text_10\">\r\n      <!-- 300 -->\r\n      <g style=\"fill:#555555;\" transform=\"translate(21.50125 38.636028)scale(0.1 -0.1)\">\r\n       <defs>\r\n        <path d=\"M 381 1344 \r\nL 381 1331 \r\nQ 381 631 763 250 \r\nQ 1144 -125 1831 -125 \r\nQ 2500 -125 2881 244 \r\nQ 3269 619 3269 1275 \r\nQ 3269 1756 3075 2056 \r\nQ 2888 2350 2519 2463 \r\nQ 2819 2619 2975 2869 \r\nQ 3138 3131 3138 3500 \r\nQ 3138 4075 2794 4400 \r\nQ 2456 4719 1863 4719 \r\nQ 1250 4719 900 4363 \r\nQ 538 4000 519 3331 \r\nL 925 3331 \r\nQ 925 3850 1175 4119 \r\nQ 1413 4381 1856 4381 \r\nQ 2250 4381 2488 4150 \r\nQ 2725 3913 2725 3500 \r\nQ 2725 3044 2456 2813 \r\nQ 2200 2588 1688 2588 \r\nL 1525 2594 \r\nL 1525 2269 \r\nL 1719 2275 \r\nQ 2288 2275 2563 2044 \r\nQ 2844 1806 2844 1288 \r\nQ 2844 763 2569 488 \r\nQ 2306 206 1813 206 \r\nQ 1338 206 1081 500 \r\nQ 819 794 819 1344 \r\nL 381 1344 \r\nz\r\n\" id=\"H2gtrM-33\" transform=\"scale(0.015625)\"/>\r\n       </defs>\r\n       <use xlink:href=\"#H2gtrM-33\"/>\r\n       <use x=\"58.300781\" xlink:href=\"#H2gtrM-30\"/>\r\n       <use x=\"116.601562\" xlink:href=\"#H2gtrM-30\"/>\r\n      </g>\r\n     </g>\r\n    </g>\r\n    <g id=\"text_11\">\r\n     <!-- count -->\r\n     <g style=\"fill:#555555;\" transform=\"translate(15.825 149.213437)rotate(-90)scale(0.12 -0.12)\">\r\n      <defs>\r\n       <path d=\"M 2838 1150 \r\nQ 2769 731 2506 494 \r\nQ 2250 256 1863 256 \r\nQ 1369 256 1069 625 \r\nQ 769 1006 769 1669 \r\nQ 769 2331 1069 2706 \r\nQ 1363 3069 1856 3069 \r\nQ 2231 3069 2494 2850 \r\nQ 2756 2631 2806 2269 \r\nL 3169 2269 \r\nQ 3144 2781 2781 3088 \r\nQ 2419 3400 1856 3400 \r\nQ 1175 3400 781 2938 \r\nQ 381 2469 381 1638 \r\nQ 381 831 775 369 \r\nQ 1163 -88 1831 -88 \r\nQ 2419 -88 2794 250 \r\nQ 3156 581 3219 1150 \r\nL 2838 1150 \r\nz\r\n\" id=\"H2gtrM-63\" transform=\"scale(0.015625)\"/>\r\n       <path d=\"M 1925 3400 \r\nQ 1206 3400 788 2856 \r\nQ 413 2369 413 1650 \r\nQ 413 950 788 456 \r\nQ 1206 -88 1925 -88 \r\nQ 2644 -88 3069 456 \r\nQ 3450 944 3450 1650 \r\nQ 3450 2369 3069 2856 \r\nQ 2644 3400 1925 3400 \r\nz\r\nM 1925 3069 \r\nQ 2456 3069 2775 2631 \r\nQ 3063 2231 3063 1656 \r\nQ 3063 1094 2775 694 \r\nQ 2456 256 1925 256 \r\nQ 1394 256 1081 694 \r\nQ 800 1094 800 1656 \r\nQ 800 2231 1081 2631 \r\nQ 1394 3069 1925 3069 \r\nz\r\n\" id=\"H2gtrM-6f\" transform=\"scale(0.015625)\"/>\r\n       <path d=\"M 631 6 \r\nL 1013 6 \r\nL 1013 1956 \r\nQ 1013 2475 1288 2775 \r\nQ 1563 3069 2025 3069 \r\nQ 2506 3069 2688 2825 \r\nQ 2844 2619 2844 2075 \r\nL 2844 6 \r\nL 3225 6 \r\nL 3225 2119 \r\nQ 3225 2438 3206 2581 \r\nQ 3175 2794 3094 2938 \r\nQ 2963 3163 2700 3281 \r\nQ 2438 3400 2100 3400 \r\nQ 1731 3400 1456 3250 \r\nQ 1181 3100 1000 2788 \r\nL 1000 3325 \r\nL 631 3325 \r\nL 631 6 \r\nz\r\n\" id=\"H2gtrM-6e\" transform=\"scale(0.015625)\"/>\r\n       <path d=\"M 1088 4275 \r\nL 706 4275 \r\nL 706 3325 \r\nL 263 3325 \r\nL 263 3013 \r\nL 706 3013 \r\nL 706 581 \r\nQ 706 225 806 81 \r\nQ 925 -81 1244 -81 \r\nQ 1344 -81 1463 -63 \r\nQ 1581 -38 1706 -6 \r\nL 1706 294 \r\nL 1656 288 \r\nQ 1544 263 1488 250 \r\nQ 1400 231 1344 231 \r\nQ 1188 231 1131 325 \r\nQ 1088 394 1088 581 \r\nL 1088 3013 \r\nL 1706 3013 \r\nL 1706 3325 \r\nL 1088 3325 \r\nL 1088 4275 \r\nz\r\n\" id=\"H2gtrM-74\" transform=\"scale(0.015625)\"/>\r\n      </defs>\r\n      <use xlink:href=\"#H2gtrM-63\"/>\r\n      <use x=\"58.300781\" xlink:href=\"#H2gtrM-6f\"/>\r\n      <use x=\"120.800781\" xlink:href=\"#H2gtrM-75\"/>\r\n      <use x=\"179.101562\" xlink:href=\"#H2gtrM-6e\"/>\r\n      <use x=\"241.601562\" xlink:href=\"#H2gtrM-74\"/>\r\n     </g>\r\n    </g>\r\n   </g>\r\n   <g id=\"patch_3\">\r\n    <path clip-path=\"url(#pd917cc7f18)\" d=\"M 62.730312 241.44 \r\nL 196.650313 241.44 \r\nL 196.650313 34.354286 \r\nL 62.730312 34.354286 \r\nz\r\n\" style=\"fill:#cc5a49;\"/>\r\n   </g>\r\n   <g id=\"patch_4\">\r\n    <path clip-path=\"url(#pd917cc7f18)\" d=\"M 230.130313 241.44 \r\nL 364.050313 241.44 \r\nL 364.050313 154.064964 \r\nL 230.130313 154.064964 \r\nz\r\n\" style=\"fill:#4586ac;\"/>\r\n   </g>\r\n   <g id=\"patch_5\">\r\n    <path d=\"M 45.990313 241.44 \r\nL 45.990313 24 \r\n\" style=\"fill:none;stroke:#ffffff;stroke-linecap:square;stroke-linejoin:miter;\"/>\r\n   </g>\r\n   <g id=\"patch_6\">\r\n    <path d=\"M 380.790313 241.44 \r\nL 380.790313 24 \r\n\" style=\"fill:none;stroke:#ffffff;stroke-linecap:square;stroke-linejoin:miter;\"/>\r\n   </g>\r\n   <g id=\"patch_7\">\r\n    <path d=\"M 45.990313 241.44 \r\nL 380.790313 241.44 \r\n\" style=\"fill:none;stroke:#ffffff;stroke-linecap:square;stroke-linejoin:miter;\"/>\r\n   </g>\r\n   <g id=\"patch_8\">\r\n    <path d=\"M 45.990313 24 \r\nL 380.790313 24 \r\n\" style=\"fill:none;stroke:#ffffff;stroke-linecap:square;stroke-linejoin:miter;\"/>\r\n   </g>\r\n   <g id=\"text_12\">\r\n    <!-- 유찰횟수 -->\r\n    <g transform=\"translate(184.590312 18)scale(0.144 -0.144)\">\r\n     <defs>\r\n      <path d=\"M 1638 5025 \r\nL 1638 4700 \r\nL 3163 4700 \r\nL 3163 5025 \r\nL 1638 5025 \r\nz\r\nM 675 4388 \r\nL 675 4056 \r\nL 4131 4056 \r\nL 4131 4388 \r\nL 675 4388 \r\nz\r\nM 2400 3538 \r\nQ 2831 3538 3063 3444 \r\nQ 3294 3350 3294 3169 \r\nQ 3294 2994 3063 2900 \r\nQ 2831 2800 2400 2800 \r\nQ 1956 2800 1731 2900 \r\nQ 1506 2994 1506 3169 \r\nQ 1506 3350 1731 3444 \r\nQ 1963 3538 2400 3538 \r\nz\r\nM 4744 5094 \r\nL 4744 1338 \r\nL 5163 1338 \r\nL 5163 4894 \r\nQ 5163 4925 5169 4956 \r\nQ 5175 4975 5194 5006 \r\nQ 5219 5056 5200 5075 \r\nQ 5181 5094 5056 5094 \r\nL 4744 5094 \r\nz\r\nM 2200 2481 \r\nL 2200 2019 \r\nQ 1794 2000 1225 1994 \r\nQ 900 1988 400 1988 \r\nL 488 1644 \r\nQ 513 1538 544 1525 \r\nQ 563 1513 619 1556 \r\nQ 669 1581 700 1600 \r\nQ 750 1619 806 1619 \r\nQ 1675 1644 2675 1713 \r\nQ 3688 1788 4381 1875 \r\nL 4319 2200 \r\nQ 3881 2138 3319 2094 \r\nQ 2944 2063 2613 2044 \r\nL 2613 2494 \r\nQ 3125 2525 3419 2719 \r\nQ 3694 2900 3694 3163 \r\nQ 3694 3463 3363 3650 \r\nQ 3006 3856 2400 3856 \r\nQ 1781 3856 1431 3650 \r\nQ 1106 3463 1106 3163 \r\nQ 1106 2900 1381 2719 \r\nQ 1675 2519 2200 2481 \r\nz\r\nM 1413 -600 \r\nL 1413 -600 \r\nQ 2313 -369 2913 50 \r\nQ 3381 381 3606 781 \r\nQ 3813 369 4256 50 \r\nQ 4725 -294 5456 -525 \r\nL 5656 -138 \r\nQ 4819 13 4300 456 \r\nQ 3838 856 3838 1281 \r\nQ 3838 1313 3850 1344 \r\nQ 3863 1363 3888 1400 \r\nQ 3938 1463 3925 1481 \r\nQ 3913 1513 3781 1513 \r\nL 3438 1513 \r\nQ 3438 925 2856 450 \r\nQ 2238 -63 1225 -200 \r\nL 1413 -600 \r\nz\r\n\" id=\"H2gtrM-d69f\" transform=\"scale(0.015625)\"/>\r\n      <path d=\"M 1119 2700 \r\nQ 1844 2963 2438 3456 \r\nQ 3000 3919 3188 4356 \r\nQ 3444 3900 3938 3513 \r\nQ 4500 3081 5281 2813 \r\nL 5475 3188 \r\nQ 5025 3269 4613 3488 \r\nQ 4263 3675 3969 3950 \r\nQ 3713 4181 3563 4413 \r\nQ 3425 4625 3438 4725 \r\nQ 3438 4781 3463 4838 \r\nQ 3475 4875 3513 4938 \r\nQ 3563 5025 3556 5056 \r\nQ 3550 5094 3425 5094 \r\nL 3038 5094 \r\nQ 3006 4481 2431 3913 \r\nQ 1838 3325 925 3056 \r\nL 1119 2700 \r\nz\r\nM 563 2106 \r\nL 563 1763 \r\nL 2994 1763 \r\nL 2994 -506 \r\nL 3413 -506 \r\nL 3413 1763 \r\nL 5838 1763 \r\nL 5838 2106 \r\nL 563 2106 \r\nz\r\n\" id=\"H2gtrM-c218\" transform=\"scale(0.015625)\"/>\r\n     </defs>\r\n     <use xlink:href=\"#H2gtrM-c720\"/>\r\n     <use x=\"100\" xlink:href=\"#H2gtrM-cc30\"/>\r\n     <use x=\"200\" xlink:href=\"#H2gtrM-d69f\"/>\r\n     <use x=\"300\" xlink:href=\"#H2gtrM-c218\"/>\r\n    </g>\r\n   </g>\r\n  </g>\r\n </g>\r\n <defs>\r\n  <clipPath id=\"pd917cc7f18\">\r\n   <rect height=\"217.44\" width=\"334.8\" x=\"45.990313\" y=\"24\"/>\r\n  </clipPath>\r\n </defs>\r\n</svg>\r\n",
      "text/plain": "<Figure size 432x288 with 1 Axes>"
     },
     "metadata": {},
     "output_type": "display_data"
    }
   ],
   "source": [
    "plt.subplot()\n",
    "ax = sns.countplot(data=train, x='fail')\n",
    "ax.set(xlabel='유찰', ylabel='count',title=\"유찰횟수\")\n"
   ]
  },
  {
   "cell_type": "code",
   "execution_count": null,
   "metadata": {},
   "outputs": [],
   "source": [
    "fig, axes = plt.subplots(nrows=1,ncols=1)\n",
    "fig.set_size_inches(18, 8)\n",
    "\n",
    "sns.kdeplot(data=train,x=\"area\")\n",
    "sns.jointplot(data=train,y=\"area\",x=\"year\")\n",
    "\n",
    "axes.set(xlabel='area',ylabel='dist',title=\"area 분포\")\n"
   ]
  },
  {
   "cell_type": "code",
   "execution_count": null,
   "metadata": {},
   "outputs": [],
   "source": [
    "fig, axes = plt.subplots(nrows=2,ncols=1)\n",
    "fig.set_size_inches(18, 16)\n",
    "\n",
    "sns.lineplot(data=train,y=\"st_price\",x=\"area\",ax=axes[0])\n",
    "sns.lineplot(data=train,y=\"final_price\",x=\"area\",ax=axes[1])\n",
    "\n",
    "axes[0].set(xlabel='area',ylabel='start price',title=\"크기별 시초가격\")\n",
    "axes[1].set(xlabel='area',ylabel='final price',title=\"크기별 낙찰가격\")\n"
   ]
  },
  {
   "cell_type": "code",
   "execution_count": null,
   "metadata": {},
   "outputs": [],
   "source": [
    "sns.jointplot(data=train,y=\"st_price\",x=\"area\")\n",
    "sns.jointplot(data=train,y=\"final_price\",x=\"area\")"
   ]
  },
  {
   "cell_type": "code",
   "execution_count": null,
   "metadata": {},
   "outputs": [],
   "source": [
    "def concatenate_year_month(data):\n",
    "    return \"{0}-{1}\".format(data['auction_year'], data['auction_month'])\n",
    "\n",
    "train[\"year_month\"] = train.apply(concatenate_year_month,axis=1)\n",
    "\n",
    "print(train.shape)\n",
    "train[[\"year_month\"]].head()"
   ]
  },
  {
   "cell_type": "code",
   "execution_count": null,
   "metadata": {},
   "outputs": [],
   "source": [
    "fig, axes = plt.subplots(nrows=2,ncols=1)\n",
    "fig.set_size_inches(36, 12)\n",
    "\n",
    "sns.boxplot(data=train,y=\"st_price\",x=\"year_month\",orient=\"v\",ax=axes[0])\n",
    "sns.boxplot(data=train,y=\"final_price\",x=\"year_month\",orient=\"v\",ax=axes[1])\n",
    "\n",
    "axes[0].set(xlabel='auction time', ylabel='start price',title=\"시간별 시초가격\")\n",
    "axes[1].set(xlabel='auction time', ylabel='final price',title=\"시간별 낙찰가격\")"
   ]
  },
  {
   "cell_type": "code",
   "execution_count": null,
   "metadata": {},
   "outputs": [],
   "source": [
    "def price_rise(data):\n",
    "    return data['final_price']-data['st_price']\n",
    "\n",
    "def price_rise_rate(data):\n",
    "    if data['st_price'] != 0:\n",
    "        return (data['final_price']-data['st_price'])/data['st_price']\n",
    "    else:\n",
    "        return None\n",
    "\n",
    "train[\"price_rise\"] = train.apply(price_rise,axis=1)\n",
    "train[\"price_rise_rate\"] = train.apply(price_rise_rate,axis=1)\n",
    "# train['price_rise'].head()\n",
    "train['price_rise_rate'].head()"
   ]
  },
  {
   "cell_type": "code",
   "execution_count": null,
   "metadata": {},
   "outputs": [],
   "source": [
    "fig, axes = plt.subplots(nrows=2,ncols=1)\n",
    "fig.set_size_inches(18, 16)\n",
    "\n",
    "sns.boxplot(data=train,y=\"price_rise\",x=\"auction_year\",orient=\"v\",ax=axes[0])\n",
    "sns.boxplot(data=train,y=\"price_rise_rate\",x=\"auction_year\",orient=\"v\",ax=axes[1])\n",
    "\n",
    "axes[0].set(xlabel='auction year', ylabel='price rise', title=\"년도별 낙찰가격상승\",ylim=(-1,0.5e10))\n",
    "axes[1].set(xlabel='auction year', ylabel='price rise rate',title=\"년도별 낙찰가격상승률\",ylim=(-1,5))\n"
   ]
  },
  {
   "cell_type": "code",
   "execution_count": null,
   "metadata": {},
   "outputs": [],
   "source": [
    "fig.savefig('savefig_년도별낙찰가격상승.png')"
   ]
  },
  {
   "cell_type": "code",
   "execution_count": null,
   "metadata": {},
   "outputs": [],
   "source": [
    "def concatenate_year_month(data):\n",
    "    return (data['auction_year']//10)*10\n",
    "\n",
    "train[\"10year\"] = train.apply(concatenate_year_month,axis=1)\n",
    "\n",
    "print(train.shape)\n",
    "train[[\"10year\"]].head()"
   ]
  },
  {
   "cell_type": "code",
   "execution_count": null,
   "metadata": {},
   "outputs": [],
   "source": [
    "def cal_period(data):\n",
    "    return data['auction_year']-data['year']\n",
    "\n",
    "train['period'] = train.apply(cal_period, axis=1)"
   ]
  },
  {
   "cell_type": "code",
   "execution_count": null,
   "metadata": {},
   "outputs": [],
   "source": [
    "fig, axes = plt.subplots(nrows=2,ncols=1)\n",
    "fig.set_size_inches(18, 16)\n",
    "\n",
    "sns.boxplot(data=train,y=\"price_rise\",x=\"period\",orient=\"v\",ax=axes[0])\n",
    "sns.boxplot(data=train,y=\"price_rise_rate\",x=\"period\",orient=\"v\",ax=axes[1])\n",
    "\n",
    "axes[0].set(xlabel='period', ylabel='price rise', title=\"기간별 낙찰가격상승\",ylim=(-100,0.5e10))\n",
    "axes[1].set(xlabel='period', ylabel='price rise rate',title=\"기간별 낙찰가격상승률\",ylim=(-1,5))\n"
   ]
  },
  {
   "cell_type": "code",
   "execution_count": null,
   "metadata": {},
   "outputs": [],
   "source": [
    "train.loc[train['period']>=63]"
   ]
  },
  {
   "cell_type": "code",
   "execution_count": null,
   "metadata": {},
   "outputs": [],
   "source": [
    "def cal_period(data):\n",
    "    return ((data['auction_year']-data['year'])//10)*10\n",
    "\n",
    "train['period_10'] = train.apply(cal_period, axis=1)"
   ]
  },
  {
   "cell_type": "code",
   "execution_count": null,
   "metadata": {},
   "outputs": [],
   "source": [
    "fig, axes = plt.subplots(nrows=2,ncols=1)\n",
    "fig.set_size_inches(18, 16)\n",
    "\n",
    "sns.boxplot(data=train,y=\"price_rise\",x=\"period_10\",orient=\"v\",ax=axes[0])\n",
    "sns.boxplot(data=train,y=\"price_rise_rate\",x=\"period_10\",orient=\"v\",ax=axes[1])\n",
    "\n",
    "axes[0].set(xlabel='period', ylabel='price rise', title=\"기간별 낙찰가격상승\",ylim=(0,0.5e10))\n",
    "axes[1].set(xlabel='period', ylabel='price rise rate',title=\"기간별 낙찰가격상승률\",ylim=(-1,5))\n"
   ]
  },
  {
   "cell_type": "code",
   "execution_count": null,
   "metadata": {},
   "outputs": [],
   "source": [
    "train.sort_values(by=['price_rise_rate'],ascending=False)"
   ]
  },
  {
   "cell_type": "code",
   "execution_count": null,
   "metadata": {},
   "outputs": [],
   "source": [
    "fig, axes = plt.subplots(nrows=2,ncols=1)\n",
    "fig.set_size_inches(18, 16)\n",
    "\n",
    "sns.boxplot(data=train,y=\"price_rise\",x=\"10year\",orient=\"v\",ax=axes[0])\n",
    "sns.boxplot(data=train,y=\"price_rise_rate\",x=\"10year\",orient=\"v\",ax=axes[1])\n",
    "\n",
    "axes[0].set(xlabel='years', ylabel='price rise', title=\"시대별 낙찰가격상승\",ylim=(0,0.5e10))\n",
    "axes[1].set(xlabel='years', ylabel='price rise rate',title=\"시대별 낙찰가격상승률\",ylim=(0,5))\n"
   ]
  },
  {
   "cell_type": "code",
   "execution_count": null,
   "metadata": {},
   "outputs": [],
   "source": [
    "def concatenate_year_month(data):\n",
    "    return (data['auction_year']//5)*5\n",
    "\n",
    "train[\"5year\"] = train.apply(concatenate_year_month,axis=1)\n",
    "\n",
    "print(train.shape)\n",
    "train[[\"5year\"]].head()"
   ]
  },
  {
   "cell_type": "code",
   "execution_count": null,
   "metadata": {},
   "outputs": [],
   "source": [
    "fig, axes = plt.subplots(nrows=2,ncols=1)\n",
    "fig.set_size_inches(18, 16)\n",
    "\n",
    "sns.boxplot(data=train,y=\"price_rise\",x=\"5year\",orient=\"v\",ax=axes[0])\n",
    "sns.boxplot(data=train,y=\"price_rise_rate\",x=\"5year\",orient=\"v\",ax=axes[1])\n",
    "\n",
    "axes[0].set(xlabel='years', ylabel='price rise', title=\"시대별 낙찰가격상승\",ylim=(0,0.5e10))\n",
    "axes[1].set(xlabel='years', ylabel='price rise rate',title=\"시대별 낙찰가격상승률\",ylim=(0,5))\n"
   ]
  },
  {
   "cell_type": "code",
   "execution_count": null,
   "metadata": {},
   "outputs": [],
   "source": [
    "fig.savefig('savefig_default.png')"
   ]
  },
  {
   "cell_type": "code",
   "execution_count": null,
   "metadata": {},
   "outputs": [],
   "source": [
    "train.columns"
   ]
  },
  {
   "cell_type": "code",
   "execution_count": null,
   "metadata": {},
   "outputs": [],
   "source": [
    "corr_train = train[['area','st_price','final_price','price_rise','year','price_rise_rate','period']]\n",
    "corr_train.head()\n",
    "sns.heatmap(corr_train.corr(),annot=True)"
   ]
  },
  {
   "cell_type": "code",
   "execution_count": null,
   "metadata": {},
   "outputs": [],
   "source": [
    "sns.scatterplot(data=train,y=\"price_rise_rate\",x=\"area\",hue='period_10')\n",
    "train[train['price_rise_rate']>5]"
   ]
  },
  {
   "cell_type": "code",
   "execution_count": null,
   "metadata": {},
   "outputs": [],
   "source": [
    "train[['area','year','auction_year','period','st_price','final_price','price_rise','price_rise_rate']].sort_values('area')"
   ]
  },
  {
   "cell_type": "code",
   "execution_count": null,
   "metadata": {},
   "outputs": [],
   "source": []
  }
 ]
}